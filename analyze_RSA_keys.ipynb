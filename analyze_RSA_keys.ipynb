{
 "cells": [
  {
   "cell_type": "markdown",
   "id": "183770c6",
   "metadata": {},
   "source": [
    "#### Imports"
   ]
  },
  {
   "cell_type": "code",
   "execution_count": 1,
   "id": "4afb9259",
   "metadata": {},
   "outputs": [],
   "source": [
    "import pandas as pd\n",
    "from collections import Counter\n",
    "import matplotlib.pyplot as plt"
   ]
  },
  {
   "cell_type": "markdown",
   "id": "7eaa8a26",
   "metadata": {},
   "source": [
    "#### Read in RSA moduli (316 in all)\n",
    "\n",
    "#### Certificates downloaded from: https://github.com/radii/observatory"
   ]
  },
  {
   "cell_type": "code",
   "execution_count": 2,
   "id": "d663d670",
   "metadata": {},
   "outputs": [
    {
     "data": {
      "text/html": [
       "<div>\n",
       "<style scoped>\n",
       "    .dataframe tbody tr th:only-of-type {\n",
       "        vertical-align: middle;\n",
       "    }\n",
       "\n",
       "    .dataframe tbody tr th {\n",
       "        vertical-align: top;\n",
       "    }\n",
       "\n",
       "    .dataframe thead th {\n",
       "        text-align: right;\n",
       "    }\n",
       "</style>\n",
       "<table border=\"1\" class=\"dataframe\">\n",
       "  <thead>\n",
       "    <tr style=\"text-align: right;\">\n",
       "      <th></th>\n",
       "      <th>N</th>\n",
       "    </tr>\n",
       "  </thead>\n",
       "  <tbody>\n",
       "    <tr>\n",
       "      <th>0</th>\n",
       "      <td>BAF0E4CFF9C4AE8554B90757F98FC57F6811F8C417B044...</td>\n",
       "    </tr>\n",
       "    <tr>\n",
       "      <th>1</th>\n",
       "      <td>FD77AAA51C90053BCB4C9B338B5A1445A4E79016D1DF57...</td>\n",
       "    </tr>\n",
       "    <tr>\n",
       "      <th>2</th>\n",
       "      <td>94900C4B71291CDAF668797AA4BAE7D2CC8DAFE8479099...</td>\n",
       "    </tr>\n",
       "    <tr>\n",
       "      <th>3</th>\n",
       "      <td>A75BB10D8A5321BA52883890426544FD56EB73C585F306...</td>\n",
       "    </tr>\n",
       "    <tr>\n",
       "      <th>4</th>\n",
       "      <td>A728B4D83CF5BF7A0691BDA5424CB37C9E886699C5DB17...</td>\n",
       "    </tr>\n",
       "    <tr>\n",
       "      <th>...</th>\n",
       "      <td>...</td>\n",
       "    </tr>\n",
       "    <tr>\n",
       "      <th>311</th>\n",
       "      <td>B3B3FE7FD36DB1EF167C57A50C6D768A2F4BBF64FB4CEE...</td>\n",
       "    </tr>\n",
       "    <tr>\n",
       "      <th>312</th>\n",
       "      <td>BC7FEC579B24E0FE9CBA4279A9888AFA80E0F5072943EA...</td>\n",
       "    </tr>\n",
       "    <tr>\n",
       "      <th>313</th>\n",
       "      <td>ABA481E595CDF5F6148EC24FCAD4E27895589C41E10D99...</td>\n",
       "    </tr>\n",
       "    <tr>\n",
       "      <th>314</th>\n",
       "      <td>995E1E8096662364CE9C8C003E0AAF08E9B804E084B86D...</td>\n",
       "    </tr>\n",
       "    <tr>\n",
       "      <th>315</th>\n",
       "      <td>967B92233F60DF093C588008E3630997E8E40B7561D4CD...</td>\n",
       "    </tr>\n",
       "  </tbody>\n",
       "</table>\n",
       "<p>316 rows × 1 columns</p>\n",
       "</div>"
      ],
      "text/plain": [
       "                                                     N\n",
       "0    BAF0E4CFF9C4AE8554B90757F98FC57F6811F8C417B044...\n",
       "1    FD77AAA51C90053BCB4C9B338B5A1445A4E79016D1DF57...\n",
       "2    94900C4B71291CDAF668797AA4BAE7D2CC8DAFE8479099...\n",
       "3    A75BB10D8A5321BA52883890426544FD56EB73C585F306...\n",
       "4    A728B4D83CF5BF7A0691BDA5424CB37C9E886699C5DB17...\n",
       "..                                                 ...\n",
       "311  B3B3FE7FD36DB1EF167C57A50C6D768A2F4BBF64FB4CEE...\n",
       "312  BC7FEC579B24E0FE9CBA4279A9888AFA80E0F5072943EA...\n",
       "313  ABA481E595CDF5F6148EC24FCAD4E27895589C41E10D99...\n",
       "314  995E1E8096662364CE9C8C003E0AAF08E9B804E084B86D...\n",
       "315  967B92233F60DF093C588008E3630997E8E40B7561D4CD...\n",
       "\n",
       "[316 rows x 1 columns]"
      ]
     },
     "execution_count": 2,
     "metadata": {},
     "output_type": "execute_result"
    }
   ],
   "source": [
    "df=pd.read_csv('pub_keys_moduli.txt')\n",
    "df.columns=['N']\n",
    "df"
   ]
  },
  {
   "cell_type": "markdown",
   "id": "88e30f3f",
   "metadata": {},
   "source": [
    "### Convert moduli to list"
   ]
  },
  {
   "cell_type": "code",
   "execution_count": 3,
   "id": "dabf06ee",
   "metadata": {},
   "outputs": [
    {
     "name": "stdout",
     "output_type": "stream",
     "text": [
      "316\n"
     ]
    }
   ],
   "source": [
    "moduli=list(df['N'])\n",
    "print(len(moduli))"
   ]
  },
  {
   "cell_type": "markdown",
   "id": "86dc6f5f",
   "metadata": {},
   "source": [
    "### Check GCD among pairs of moduli\n",
    "\n",
    "### (common factors mean we can break the key)"
   ]
  },
  {
   "cell_type": "code",
   "execution_count": 4,
   "id": "2b8a9453",
   "metadata": {},
   "outputs": [],
   "source": [
    "from math import gcd\n",
    "for N1 in moduli:\n",
    "    for N2 in moduli:\n",
    "        gcd_val=gcd(int(N1,16),int(N2,16))\n",
    "        if gcd_val != 1 and N1!=N2:\n",
    "            print(N1,N2)"
   ]
  },
  {
   "cell_type": "markdown",
   "id": "b02d6d69",
   "metadata": {},
   "source": [
    "### Bummer, no common factors"
   ]
  },
  {
   "cell_type": "markdown",
   "id": "c4e3c07f",
   "metadata": {},
   "source": [
    "### See if the distribution of bytes in the moduli is uniform"
   ]
  },
  {
   "cell_type": "code",
   "execution_count": 5,
   "id": "ae619a5c",
   "metadata": {
    "collapsed": true
   },
   "outputs": [
    {
     "name": "stdout",
     "output_type": "stream",
     "text": [
      "Counter({'83': 718, '50': 699, '06': 699, '78': 695, '61': 692, '66': 687, '80': 687, '41': 685, '72': 685, '68': 683, '57': 680, '87': 680, '88': 680, '95': 679, '77': 678, '86': 677, '48': 673, '71': 673, '38': 673, '79': 673, '60': 671, '94': 670, '76': 670, '37': 669, '90': 668, '56': 665, '22': 664, '08': 664, '74': 664, '19': 663, '84': 662, '63': 661, '25': 661, '59': 660, '03': 660, '35': 660, '16': 658, '45': 658, '85': 657, '58': 657, '43': 657, '98': 655, '26': 655, '40': 653, '07': 652, '05': 652, '33': 650, '30': 650, '99': 650, '52': 648, '24': 648, '09': 648, '92': 648, '54': 647, '46': 647, '00': 647, '10': 647, '15': 647, '47': 647, '17': 645, '01': 642, '55': 640, '44': 639, '62': 639, '97': 639, '13': 639, '93': 639, '70': 638, '82': 638, '28': 637, '04': 636, '29': 636, '91': 635, '23': 633, '53': 633, '42': 633, '89': 631, '64': 631, '39': 630, '20': 630, '31': 629, '36': 629, '32': 629, '67': 627, '14': 622, '96': 622, '81': 618, '11': 617, '51': 617, '69': 617, '49': 616, '75': 615, '73': 610, '27': 608, '21': 605, '65': 604, '12': 603, '34': 602, '02': 599, '18': 593})\n"
     ]
    }
   ],
   "source": [
    "# convert RSA modulus to a hex string\n",
    "hex_N=''\n",
    "for N in moduli:\n",
    "    hex_N+=N\n",
    "#characters in the alphabet are chars ths\\at make up hex strings\n",
    "chars=set('abcdef0123456789')\n",
    "\n",
    "# get dict of counts of all bytes (length-2 strings)\n",
    "counts = Counter( a+b for a,b in zip(hex_N,hex_N[1:]) if a in chars and b in chars)\n",
    "print(counts)\n"
   ]
  },
  {
   "cell_type": "code",
   "execution_count": 6,
   "id": "4d1c0d10",
   "metadata": {},
   "outputs": [
    {
     "data": {
      "text/plain": [
       "<BarContainer object of 100 artists>"
      ]
     },
     "execution_count": 6,
     "metadata": {},
     "output_type": "execute_result"
    },
    {
     "data": {
      "image/png": "[encoded data removed]",
      "text/plain": [
       "<Figure size 640x480 with 1 Axes>"
      ]
     },
     "metadata": {},
     "output_type": "display_data"
    }
   ],
   "source": [
    "# plot byte counts\n",
    "idth=1.0\n",
    "plt.bar(list(counts.keys()), counts.values(), color='b')"
   ]
  },
  {
   "cell_type": "markdown",
   "id": "f452d692",
   "metadata": {},
   "source": [
    "### Pretty noisy, but farly uniform distribution"
   ]
  }
 ],
 "metadata": {
  "kernelspec": {
   "display_name": "Python 3 (ipykernel)",
   "language": "python",
   "name": "python3"
  },
  "language_info": {
   "codemirror_mode": {
    "name": "ipython",
    "version": 3
   },
   "file_extension": ".py",
   "mimetype": "text/x-python",
   "name": "python",
   "nbconvert_exporter": "python",
   "pygments_lexer": "ipython3",
   "version": "3.9.6"
  }
 },
 "nbformat": 4,
 "nbformat_minor": 5
}
